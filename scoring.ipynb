{
 "cells": [
  {
   "cell_type": "code",
   "execution_count": 87,
   "id": "6c8851e5-7b75-4808-8411-b17028225efb",
   "metadata": {},
   "outputs": [],
   "source": [
    "# Librerías\n",
    "import pandas as pd\n",
    "import joblib\n",
    "from sklearn.metrics import r2_score"
   ]
  },
  {
   "cell_type": "code",
   "execution_count": 89,
   "id": "23e7cf81-8cfc-4e68-b52a-20598df19d80",
   "metadata": {},
   "outputs": [],
   "source": [
    "# Cargo los datos desde PostgreSQL\n",
    "from sqlalchemy import create_engine\n",
    "\n",
    "# Parámetros de conexión\n",
    "db_user = 'agustinrivas'\n",
    "db_host = 'localhost'\n",
    "db_port = '5432'\n",
    "db_name = 'dataset_ml'\n",
    "\n",
    "engine = create_engine(f'postgresql://{db_user}@{db_host}:{db_port}/{db_name}')\n",
    "df = pd.read_sql('SELECT * FROM training_dataset', engine)"
   ]
  },
  {
   "cell_type": "code",
   "execution_count": 91,
   "id": "257ebaab-8208-40cd-97bc-21a66b5890fa",
   "metadata": {},
   "outputs": [],
   "source": [
    "# Tomo muestra aleatoria de 10 filas\n",
    "df_sample = df.sample(n=10, random_state=42).reset_index(drop=True)\n",
    "df_original = df_sample.copy()"
   ]
  },
  {
   "cell_type": "code",
   "execution_count": 93,
   "id": "3dbf52c0-979d-4a22-878e-0921d327b921",
   "metadata": {},
   "outputs": [],
   "source": [
    "# Columnas numéricas y categóricas\n",
    "num_cols = ['age', 'bmi', 'children']\n",
    "cat_cols = ['sex', 'smoker', 'region']"
   ]
  },
  {
   "cell_type": "code",
   "execution_count": 95,
   "id": "e4d936a1-d4bb-4939-ab21-03c8255b8ce8",
   "metadata": {},
   "outputs": [],
   "source": [
    "# Transformación variables categóricas\n",
    "\n",
    "# Codifico usando get_dummies\n",
    "df_encoded = pd.get_dummies(df_sample, columns=cat_cols)\n",
    "\n",
    "# Cargo columnas esperadas desde training\n",
    "columns_order = joblib.load(\"models/columns_order.pkl\")\n",
    "\n",
    "# Agrego columnas faltantes que estaban en entrenamiento\n",
    "for col in columns_order:\n",
    "    if col not in df_encoded.columns:\n",
    "        df_encoded[col] = False\n",
    "\n",
    "# Reordeno para que las columnas estén igual que en entrenamiento\n",
    "df_encoded = df_encoded[columns_order]"
   ]
  },
  {
   "cell_type": "code",
   "execution_count": 97,
   "id": "9209389f-bcb3-4947-975f-a87b9350ec9f",
   "metadata": {},
   "outputs": [
    {
     "data": {
      "text/html": [
       "<div>\n",
       "<style scoped>\n",
       "    .dataframe tbody tr th:only-of-type {\n",
       "        vertical-align: middle;\n",
       "    }\n",
       "\n",
       "    .dataframe tbody tr th {\n",
       "        vertical-align: top;\n",
       "    }\n",
       "\n",
       "    .dataframe thead th {\n",
       "        text-align: right;\n",
       "    }\n",
       "</style>\n",
       "<table border=\"1\" class=\"dataframe\">\n",
       "  <thead>\n",
       "    <tr style=\"text-align: right;\">\n",
       "      <th></th>\n",
       "      <th>age</th>\n",
       "      <th>bmi</th>\n",
       "      <th>children</th>\n",
       "      <th>sex_female</th>\n",
       "      <th>sex_male</th>\n",
       "      <th>smoker_no</th>\n",
       "      <th>smoker_yes</th>\n",
       "      <th>region_northeast</th>\n",
       "      <th>region_northwest</th>\n",
       "      <th>region_southeast</th>\n",
       "      <th>region_southwest</th>\n",
       "    </tr>\n",
       "  </thead>\n",
       "  <tbody>\n",
       "    <tr>\n",
       "      <th>0</th>\n",
       "      <td>45</td>\n",
       "      <td>25.175</td>\n",
       "      <td>2</td>\n",
       "      <td>True</td>\n",
       "      <td>False</td>\n",
       "      <td>True</td>\n",
       "      <td>False</td>\n",
       "      <td>True</td>\n",
       "      <td>False</td>\n",
       "      <td>False</td>\n",
       "      <td>False</td>\n",
       "    </tr>\n",
       "    <tr>\n",
       "      <th>1</th>\n",
       "      <td>36</td>\n",
       "      <td>30.020</td>\n",
       "      <td>0</td>\n",
       "      <td>True</td>\n",
       "      <td>False</td>\n",
       "      <td>True</td>\n",
       "      <td>False</td>\n",
       "      <td>False</td>\n",
       "      <td>True</td>\n",
       "      <td>False</td>\n",
       "      <td>False</td>\n",
       "    </tr>\n",
       "    <tr>\n",
       "      <th>2</th>\n",
       "      <td>64</td>\n",
       "      <td>26.885</td>\n",
       "      <td>0</td>\n",
       "      <td>True</td>\n",
       "      <td>False</td>\n",
       "      <td>False</td>\n",
       "      <td>True</td>\n",
       "      <td>False</td>\n",
       "      <td>True</td>\n",
       "      <td>False</td>\n",
       "      <td>False</td>\n",
       "    </tr>\n",
       "    <tr>\n",
       "      <th>3</th>\n",
       "      <td>46</td>\n",
       "      <td>25.745</td>\n",
       "      <td>3</td>\n",
       "      <td>False</td>\n",
       "      <td>True</td>\n",
       "      <td>True</td>\n",
       "      <td>False</td>\n",
       "      <td>False</td>\n",
       "      <td>True</td>\n",
       "      <td>False</td>\n",
       "      <td>False</td>\n",
       "    </tr>\n",
       "    <tr>\n",
       "      <th>4</th>\n",
       "      <td>19</td>\n",
       "      <td>31.920</td>\n",
       "      <td>0</td>\n",
       "      <td>False</td>\n",
       "      <td>True</td>\n",
       "      <td>False</td>\n",
       "      <td>True</td>\n",
       "      <td>False</td>\n",
       "      <td>True</td>\n",
       "      <td>False</td>\n",
       "      <td>False</td>\n",
       "    </tr>\n",
       "  </tbody>\n",
       "</table>\n",
       "</div>"
      ],
      "text/plain": [
       "   age     bmi  children  sex_female  sex_male  smoker_no  smoker_yes  \\\n",
       "0   45  25.175         2        True     False       True       False   \n",
       "1   36  30.020         0        True     False       True       False   \n",
       "2   64  26.885         0        True     False      False        True   \n",
       "3   46  25.745         3       False      True       True       False   \n",
       "4   19  31.920         0       False      True      False        True   \n",
       "\n",
       "   region_northeast  region_northwest  region_southeast  region_southwest  \n",
       "0              True             False             False             False  \n",
       "1             False              True             False             False  \n",
       "2             False              True             False             False  \n",
       "3             False              True             False             False  \n",
       "4             False              True             False             False  "
      ]
     },
     "execution_count": 97,
     "metadata": {},
     "output_type": "execute_result"
    }
   ],
   "source": [
    "df_encoded.head()"
   ]
  },
  {
   "cell_type": "code",
   "execution_count": 99,
   "id": "edfb3a54-977e-4d71-a4f3-bc4b5c26865e",
   "metadata": {},
   "outputs": [],
   "source": [
    "# Cargo el modelo seleccionado\n",
    "model = joblib.load(\"models/best_model_XGBoost.pkl\")"
   ]
  },
  {
   "cell_type": "code",
   "execution_count": 101,
   "id": "c4b3ffb2-cb16-4661-90d1-6cde21901039",
   "metadata": {},
   "outputs": [],
   "source": [
    "# Predict\n",
    "y_pred = model.predict(df_encoded)"
   ]
  },
  {
   "cell_type": "code",
   "execution_count": 117,
   "id": "9b8fadce-0c02-45f2-b5c2-247fce8c966d",
   "metadata": {},
   "outputs": [
    {
     "name": "stdout",
     "output_type": "stream",
     "text": [
      "   age     sex     bmi  children smoker     region      charges  \\\n",
      "0   45  female  25.175         2     no  northeast   9095.06825   \n",
      "1   36  female  30.020         0     no  northwest   5272.17580   \n",
      "2   64  female  26.885         0    yes  northwest  29330.98315   \n",
      "3   46    male  25.745         3     no  northwest   9301.89355   \n",
      "4   19    male  31.920         0    yes  northwest  33750.29180   \n",
      "5   34    male  42.900         1     no  southwest   4536.25900   \n",
      "6   19  female  22.515         0     no  northwest   2117.33885   \n",
      "7   64    male  37.905         0     no  northwest  14210.53595   \n",
      "8   28  female  17.290         0     no  northeast   3732.62510   \n",
      "9   49    male  28.690         3     no  northwest  10264.44210   \n",
      "\n",
      "   predicted_charges  \n",
      "0       10799.731445  \n",
      "1        5953.257324  \n",
      "2       28139.390625  \n",
      "3        9309.177734  \n",
      "4       34653.316406  \n",
      "5        5312.598633  \n",
      "6        2493.903076  \n",
      "7       16002.472656  \n",
      "8        5166.419434  \n",
      "9       10676.375000  \n"
     ]
    }
   ],
   "source": [
    "# Mostrar resultados\n",
    "df_original['predicted_charges'] = y_pred\n",
    "print(df_original)"
   ]
  },
  {
   "cell_type": "code",
   "execution_count": 119,
   "id": "4a7bb2a8-980b-4dd6-bcda-e931768910de",
   "metadata": {},
   "outputs": [
    {
     "name": "stdout",
     "output_type": "stream",
     "text": [
      "R2 sobre muestra de scoring: 0.9889\n"
     ]
    }
   ],
   "source": [
    "r2 = r2_score(df_original['charges'], df_original['predicted_charges'])\n",
    "print(f\"R2 sobre muestra de scoring: {r2:.4f}\")"
   ]
  },
  {
   "cell_type": "code",
   "execution_count": 121,
   "id": "14119669-ce29-4560-ad14-f680d6376041",
   "metadata": {},
   "outputs": [
    {
     "name": "stdout",
     "output_type": "stream",
     "text": [
      "   age     sex     bmi  children smoker     region      charges  \\\n",
      "0   45  female  25.175         2     no  northeast   9095.06825   \n",
      "1   36  female  30.020         0     no  northwest   5272.17580   \n",
      "2   64  female  26.885         0    yes  northwest  29330.98315   \n",
      "3   46    male  25.745         3     no  northwest   9301.89355   \n",
      "4   19    male  31.920         0    yes  northwest  33750.29180   \n",
      "5   34    male  42.900         1     no  southwest   4536.25900   \n",
      "6   19  female  22.515         0     no  northwest   2117.33885   \n",
      "7   64    male  37.905         0     no  northwest  14210.53595   \n",
      "8   28  female  17.290         0     no  northeast   3732.62510   \n",
      "9   49    male  28.690         3     no  northwest  10264.44210   \n",
      "\n",
      "   predicted_charges  \n",
      "0       10799.731445  \n",
      "1        5953.257324  \n",
      "2       28139.390625  \n",
      "3        9309.177734  \n",
      "4       34653.316406  \n",
      "5        5312.598633  \n",
      "6        2493.903076  \n",
      "7       16002.472656  \n",
      "8        5166.419434  \n",
      "9       10676.375000  \n",
      "R2 sobre muestra de scoring: 0.9889\n"
     ]
    }
   ],
   "source": [
    "%run scoring.py"
   ]
  },
  {
   "cell_type": "code",
   "execution_count": null,
   "id": "43b1b83a-760f-4d79-a581-862db659ede2",
   "metadata": {},
   "outputs": [],
   "source": []
  }
 ],
 "metadata": {
  "kernelspec": {
   "display_name": "Python [conda env:base] *",
   "language": "python",
   "name": "conda-base-py"
  },
  "language_info": {
   "codemirror_mode": {
    "name": "ipython",
    "version": 3
   },
   "file_extension": ".py",
   "mimetype": "text/x-python",
   "name": "python",
   "nbconvert_exporter": "python",
   "pygments_lexer": "ipython3",
   "version": "3.12.7"
  }
 },
 "nbformat": 4,
 "nbformat_minor": 5
}
