{
 "cells": [
  {
   "cell_type": "code",
   "execution_count": 5,
   "id": "2dd11d3b-d2ae-4daf-b76d-530c403f522a",
   "metadata": {},
   "outputs": [
    {
     "name": "stdout",
     "output_type": "stream",
     "text": [
      "Collecting psycopg2-binary\n",
      "  Downloading psycopg2_binary-2.9.10-cp312-cp312-macosx_14_0_arm64.whl.metadata (4.9 kB)\n",
      "Downloading psycopg2_binary-2.9.10-cp312-cp312-macosx_14_0_arm64.whl (3.3 MB)\n",
      "\u001b[2K   \u001b[90m━━━━━━━━━━━━━━━━━━━━━━━━━━━━━━━━━━━━━━━━\u001b[0m \u001b[32m3.3/3.3 MB\u001b[0m \u001b[31m12.8 MB/s\u001b[0m eta \u001b[36m0:00:00\u001b[0ma \u001b[36m0:00:01\u001b[0m\n",
      "\u001b[?25hInstalling collected packages: psycopg2-binary\n",
      "Successfully installed psycopg2-binary-2.9.10\n"
     ]
    }
   ],
   "source": [
    "!pip install psycopg2-binary"
   ]
  },
  {
   "cell_type": "code",
   "execution_count": 7,
   "id": "065f9869-fc4e-4fee-8773-fcfe294fde03",
   "metadata": {},
   "outputs": [
    {
     "data": {
      "text/plain": [
       "338"
      ]
     },
     "execution_count": 7,
     "metadata": {},
     "output_type": "execute_result"
    }
   ],
   "source": [
    "import pandas as pd\n",
    "from sqlalchemy import create_engine\n",
    "\n",
    "# Parámetros\n",
    "db_user = 'agustinrivas'\n",
    "db_host = 'localhost'\n",
    "db_port = '5432'\n",
    "db_name = 'dataset_ml'\n",
    "\n",
    "# Cargar CSV\n",
    "df = pd.read_csv('/Users/agustinrivas/Library/CloudStorage/OneDrive-Personal/Projects/Met  Challenge/ML-Challenge/dataset.csv')\n",
    "df.columns = [c.lower() for c in df.columns]\n",
    "\n",
    "# Crear motor de conexión con SQLAlchemy\n",
    "engine = create_engine(f'postgresql://{db_user}@{db_host}:{db_port}/{db_name}')\n",
    "\n",
    "# Insertar en la base de datos\n",
    "df.to_sql('training_dataset', engine, if_exists='replace', index=False)\n"
   ]
  },
  {
   "cell_type": "code",
   "execution_count": null,
   "id": "c878996c-d4b8-4da2-93c0-4d0029acccd9",
   "metadata": {},
   "outputs": [],
   "source": []
  }
 ],
 "metadata": {
  "kernelspec": {
   "display_name": "Python [conda env:base] *",
   "language": "python",
   "name": "conda-base-py"
  },
  "language_info": {
   "codemirror_mode": {
    "name": "ipython",
    "version": 3
   },
   "file_extension": ".py",
   "mimetype": "text/x-python",
   "name": "python",
   "nbconvert_exporter": "python",
   "pygments_lexer": "ipython3",
   "version": "3.12.7"
  }
 },
 "nbformat": 4,
 "nbformat_minor": 5
}
